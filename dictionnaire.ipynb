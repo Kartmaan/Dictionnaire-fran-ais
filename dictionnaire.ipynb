{
 "cells": [
  {
   "cell_type": "code",
   "execution_count": 3,
   "metadata": {},
   "outputs": [],
   "source": [
    "import pandas as pd"
   ]
  },
  {
   "attachments": {},
   "cell_type": "markdown",
   "metadata": {},
   "source": [
    "## Préparation du dataframe"
   ]
  },
  {
   "cell_type": "code",
   "execution_count": 4,
   "metadata": {},
   "outputs": [],
   "source": [
    "df = pd.read_csv(\"dico.csv\") # Création du dataframe\n",
    "df = df.sort_values('Mot') # Ordre alphabétique\n",
    "df = df.dropna() # Remove missing data\n",
    "df = df.sort_values('Mot') # Ordre alphabétique"
   ]
  },
  {
   "attachments": {},
   "cell_type": "markdown",
   "metadata": {},
   "source": [
    "## Fonction"
   ]
  },
  {
   "cell_type": "code",
   "execution_count": 5,
   "metadata": {},
   "outputs": [],
   "source": [
    "def definir(mot, printable=False):\n",
    "    mot = mot.capitalize()\n",
    "\n",
    "    D = df.loc[df['Mot'] == mot]['Définitions']\n",
    "\n",
    "    # Mot introuvable\n",
    "    if len(D) == 0:\n",
    "        print(f\"'{mot}' ne figure pas dans le dictionnaire\")\n",
    "        return None\n",
    "\n",
    "    # Occurence trouvée\n",
    "    else:\n",
    "        D = eval(D.values[0])\n",
    "\n",
    "    if printable:\n",
    "        print(\"Mot : \", mot)\n",
    "        for idx, definition in enumerate(D):\n",
    "            print(f\"{idx+1}) {definition}\")\n",
    "    \n",
    "    else:\n",
    "        return D"
   ]
  },
  {
   "attachments": {},
   "cell_type": "markdown",
   "metadata": {},
   "source": [
    "## Exemples"
   ]
  },
  {
   "cell_type": "code",
   "execution_count": 6,
   "metadata": {},
   "outputs": [
    {
     "data": {
      "text/plain": [
       "['Cri de victoire dans la chasse à courre, pour annoncer que la bête est aux abois.',\n",
       " \"Ton de chasse que l'on sonne pour annoncer que la bête se rend.\"]"
      ]
     },
     "execution_count": 6,
     "metadata": {},
     "output_type": "execute_result"
    }
   ],
   "source": [
    "# Par défaut la fonction renvoie une liste contenant les définitions\n",
    "definir('hallali')"
   ]
  },
  {
   "cell_type": "code",
   "execution_count": 7,
   "metadata": {},
   "outputs": [
    {
     "name": "stdout",
     "output_type": "stream",
     "text": [
      "Mot :  Hallali\n",
      "1) Cri de victoire dans la chasse à courre, pour annoncer que la bête est aux abois.\n",
      "2) Ton de chasse que l'on sonne pour annoncer que la bête se rend.\n"
     ]
    }
   ],
   "source": [
    "# En mode printable les définitions sont affichées à la console\n",
    "definir('hallali', printable=True)"
   ]
  },
  {
   "cell_type": "code",
   "execution_count": 8,
   "metadata": {},
   "outputs": [
    {
     "name": "stdout",
     "output_type": "stream",
     "text": [
      "'Rompicher' ne figure pas dans le dictionnaire\n"
     ]
    }
   ],
   "source": [
    "# Un message s'affiche sur la console quand un mot est introuvable\n",
    "definir('rompicher')"
   ]
  }
 ],
 "metadata": {
  "kernelspec": {
   "display_name": "base",
   "language": "python",
   "name": "python3"
  },
  "language_info": {
   "codemirror_mode": {
    "name": "ipython",
    "version": 3
   },
   "file_extension": ".py",
   "mimetype": "text/x-python",
   "name": "python",
   "nbconvert_exporter": "python",
   "pygments_lexer": "ipython3",
   "version": "3.9.12"
  },
  "orig_nbformat": 4
 },
 "nbformat": 4,
 "nbformat_minor": 2
}
