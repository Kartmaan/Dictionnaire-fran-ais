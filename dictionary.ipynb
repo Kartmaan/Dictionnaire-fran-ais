{
 "cells": [
  {
   "cell_type": "code",
   "execution_count": 1,
   "metadata": {},
   "outputs": [],
   "source": [
    "import pandas as pd"
   ]
  },
  {
   "attachments": {},
   "cell_type": "markdown",
   "metadata": {},
   "source": [
    "## Dataframe initialisation"
   ]
  },
  {
   "cell_type": "code",
   "execution_count": 2,
   "metadata": {},
   "outputs": [],
   "source": [
    "df = pd.read_csv(\"dico.csv\") # Dataframe creation\n",
    "df = df.sort_values('Mot') # Alphabetic order\n",
    "df = df.dropna() # Remove missing data\n",
    "df = df.reset_index() "
   ]
  },
  {
   "attachments": {},
   "cell_type": "markdown",
   "metadata": {},
   "source": [
    "## Function"
   ]
  },
  {
   "cell_type": "code",
   "execution_count": 15,
   "metadata": {},
   "outputs": [],
   "source": [
    "def define(word, printable=False):\n",
    "    word = word.capitalize()\n",
    "\n",
    "    D = df.loc[df['Mot'] == word]['Définitions']\n",
    "\n",
    "    # Word not found\n",
    "    if len(D) == 0:\n",
    "        print(f\"'{word}' not in dictionary\")\n",
    "        return None\n",
    "\n",
    "    # Word found\n",
    "    else:\n",
    "        D = eval(D.values[0])\n",
    "\n",
    "    if printable:\n",
    "        print(\"Word : \", word)\n",
    "        for idx, definition in enumerate(D):\n",
    "            print(f\"{idx+1}) {definition}\")\n",
    "    \n",
    "    else:\n",
    "        return D"
   ]
  },
  {
   "attachments": {},
   "cell_type": "markdown",
   "metadata": {},
   "source": [
    "## Examples"
   ]
  },
  {
   "cell_type": "code",
   "execution_count": 13,
   "metadata": {},
   "outputs": [
    {
     "data": {
      "text/plain": [
       "['Cri de victoire dans la chasse à courre, pour annoncer que la bête est aux abois.',\n",
       " \"Ton de chasse que l'on sonne pour annoncer que la bête se rend.\"]"
      ]
     },
     "execution_count": 13,
     "metadata": {},
     "output_type": "execute_result"
    }
   ],
   "source": [
    "# By default the function returns a list containing the definitions \n",
    "define('hallali')"
   ]
  },
  {
   "cell_type": "code",
   "execution_count": 16,
   "metadata": {},
   "outputs": [
    {
     "name": "stdout",
     "output_type": "stream",
     "text": [
      "Word :  Hallali\n",
      "1) Cri de victoire dans la chasse à courre, pour annoncer que la bête est aux abois.\n",
      "2) Ton de chasse que l'on sonne pour annoncer que la bête se rend.\n"
     ]
    }
   ],
   "source": [
    "# In printable mode the definitions are displayed at the console\n",
    "define('hallali', printable=True)"
   ]
  },
  {
   "cell_type": "code",
   "execution_count": 17,
   "metadata": {},
   "outputs": [
    {
     "name": "stdout",
     "output_type": "stream",
     "text": [
      "'Rompicher' not in dictionary\n"
     ]
    }
   ],
   "source": [
    "# A message is displayed on the console when a word is not found\n",
    "define('rompicher')"
   ]
  }
 ],
 "metadata": {
  "kernelspec": {
   "display_name": "base",
   "language": "python",
   "name": "python3"
  },
  "language_info": {
   "codemirror_mode": {
    "name": "ipython",
    "version": 3
   },
   "file_extension": ".py",
   "mimetype": "text/x-python",
   "name": "python",
   "nbconvert_exporter": "python",
   "pygments_lexer": "ipython3",
   "version": "3.9.12"
  },
  "orig_nbformat": 4
 },
 "nbformat": 4,
 "nbformat_minor": 2
}
