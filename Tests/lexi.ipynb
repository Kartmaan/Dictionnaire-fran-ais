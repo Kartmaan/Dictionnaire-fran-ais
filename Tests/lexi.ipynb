{
 "cells": [
  {
   "cell_type": "code",
   "execution_count": 67,
   "metadata": {},
   "outputs": [],
   "source": [
    "import time\n",
    "import os\n",
    "import random\n",
    "import logging\n",
    "import pandas as pd\n",
    "from openpyxl import load_workbook"
   ]
  },
  {
   "cell_type": "code",
   "execution_count": 68,
   "metadata": {},
   "outputs": [],
   "source": [
    "logger = logging.getLogger()\n",
    "logger.setLevel(logging.INFO)"
   ]
  },
  {
   "cell_type": "code",
   "execution_count": 69,
   "metadata": {},
   "outputs": [],
   "source": [
    "# Ciblage du dossier parent\n",
    "dossier_parent = os.path.dirname(os.getcwd())\n",
    "\n",
    "# Chemin absolu du fichier .csv\n",
    "dico = dossier_parent + \"\\\\dico.csv\""
   ]
  },
  {
   "cell_type": "code",
   "execution_count": 70,
   "metadata": {},
   "outputs": [],
   "source": [
    "# Initialisation du dataframe Pandas\n",
    "df = pd.read_csv(dico)\n",
    "df = df.sort_values(\"Mot\")\n",
    "df = df.dropna()\n",
    "df = df.reset_index(drop=True)"
   ]
  },
  {
   "cell_type": "code",
   "execution_count": 71,
   "metadata": {},
   "outputs": [],
   "source": [
    "# Ouverture du fichier excel\n",
    "excel = load_workbook(filename=\"lexi.xlsx\")\n",
    "sheet = excel.active"
   ]
  },
  {
   "cell_type": "code",
   "execution_count": 72,
   "metadata": {},
   "outputs": [],
   "source": [
    "sheet[\"A1\"] = \"Mot\"\n",
    "sheet[\"B1\"] = \"Définitions\"\n",
    "sheet[\"C1\"] = \"Timestamp\""
   ]
  },
  {
   "cell_type": "code",
   "execution_count": 73,
   "metadata": {},
   "outputs": [],
   "source": [
    "def first_empty():\n",
    "    \"\"\" Ruturns the index of the first empty cell\n",
    "    in column A \"\"\"\n",
    "    idx = 2\n",
    "    while True:\n",
    "        if not isinstance(sheet[f'A{idx}'].value, str):\n",
    "            return idx\n",
    "        else:\n",
    "            idx+=1\n",
    "            continue"
   ]
  },
  {
   "cell_type": "code",
   "execution_count": 74,
   "metadata": {},
   "outputs": [],
   "source": [
    "def ajout(mot, print_added=False):\n",
    "    \n",
    "    mot = mot.capitalize()\n",
    "\n",
    "    D = df.loc[df['Mot'] == mot]['Définitions']\n",
    "\n",
    "    # Mot introuvable\n",
    "    if len(D) == 0:\n",
    "        logging.info(f\"'{mot}' not in dictionnary\")\n",
    "        #print(f\"'{mot}' ne figure pas dans le dictionnaire\")\n",
    "        return None\n",
    "\n",
    "    # Occurence trouvée\n",
    "    else:\n",
    "        logging.info(f\"'{mot}' found in dictionnary at idx {df.loc[df['Mot'] == mot].index[0]}\")\n",
    "        D = eval(D.values[0]) # list\n",
    "\n",
    "        idx = 2 # Index vertical de la colonne\n",
    "\n",
    "        # Boucle à la recherche d'une case vide\n",
    "        while idx < first_empty():\n",
    "\n",
    "            # Le mot est déjà présent\n",
    "            if sheet[f\"A{idx}\"].value == mot:\n",
    "                logging.warning(f\"'{mot}' not added : already in lexicon at cell A{idx}\")\n",
    "                #print(f\"Le mot '{mot}' existe déjà à la cellule A{idx}\")\n",
    "                return None\n",
    "\n",
    "            # La cellule ne contient pas de texte\n",
    "            if not isinstance(sheet[f\"A{idx}\"].value, (str, int, float)) :\n",
    "\n",
    "                # Toutes les définitions du mot contenues dans\n",
    "                # la liste (D) sont fusionnées dans une seule \n",
    "                # chaîne de caractère afin d'être insérée dans \n",
    "                # la cellule du tableur\n",
    "                defs = []\n",
    "                for idx_def, definition in enumerate(D):\n",
    "                    defs.append(f\"{idx_def+1}) {definition}\")\n",
    "\n",
    "                sheet[f\"A{str(idx)}\"] = mot # Ajout mot\n",
    "\n",
    "                sheet[f\"B{str(idx)}\"] = \"\".join(defs) # Ajout définition\n",
    "                \n",
    "                sheet[f\"C{str(idx)}\"] = str(int(time.time())) # Ajout timestamp\n",
    "\n",
    "                logging.info(f\"'{mot}' added in lexicon at idx A{idx}\")\n",
    "                if print_added:\n",
    "                    print(f\"Définition de '{mot}' ajoutée\")\n",
    "\n",
    "                break\n",
    "            \n",
    "            else:\n",
    "                idx+=1\n",
    "                if idx == 10000: # watchdog\n",
    "                    logging.critical(\"Watchdog activated : too many iterations\")\n",
    "                    break\n",
    "    \n",
    "    excel.save(filename=\"lexi.xlsx\")\n",
    "    logging.debug(\"xlsx file saved after adding a word\")"
   ]
  },
  {
   "cell_type": "code",
   "execution_count": 75,
   "metadata": {},
   "outputs": [],
   "source": [
    "def search(mot):\n",
    "    \"\"\" Search in lexicon \"\"\"\n",
    "    mot = mot.capitalize()\n",
    "\n",
    "    idx = 2\n",
    "    found = False\n",
    "    while idx < first_empty():\n",
    "        if sheet[f'A{idx}'].value == mot:\n",
    "            found = True\n",
    "            logging.info(f\"'{mot}' found in lexicon at idx {idx}\")\n",
    "            return (idx, mot, sheet[f'B{idx}'].value)\n",
    "        else:\n",
    "            idx+=1\n",
    "    \n",
    "    if found == False:\n",
    "        logging.info(f\"'{mot}' not found in lexicon\")\n",
    "        #print(f\"'{mot}' not found\")\n",
    "        return None"
   ]
  },
  {
   "cell_type": "code",
   "execution_count": 76,
   "metadata": {},
   "outputs": [],
   "source": [
    "def delete(mot):\n",
    "    \"\"\" Delete a word from the lexicon \"\"\"\n",
    "    mot = mot.capitalize()\n",
    "\n",
    "    result = search(mot)\n",
    "\n",
    "    if result == None:\n",
    "        logging.warning(f\"Word '{mot}' not deleted : not in lexicon\")\n",
    "        return None\n",
    "    \n",
    "    else:\n",
    "        idx = result[0]\n",
    "        sheet.delete_rows(idx)\n",
    "        logging.info(f\"'{mot}' deleted from the lexicon\")\n",
    "        #print(f\"Word '{mot}' deleted at row {idx}\")\n",
    "        excel.save(\"lexi.xlsx\")\n",
    "        logging.debug(\"xlsx file saved after deletion\")\n"
   ]
  },
  {
   "cell_type": "code",
   "execution_count": 77,
   "metadata": {},
   "outputs": [],
   "source": [
    "def insert(mot, definition):\n",
    "    \"\"\" Insert a word in lexicon that not figure in dictionary \"\"\"\n",
    "    mot = mot.capitalize()\n",
    "\n",
    "    result = search(mot)\n",
    "\n",
    "    if result != None:\n",
    "        idx = result[0]\n",
    "        logging.warning(f\"Word '{mot}' not inserted : already in lexicon at idx {idx}\")\n",
    "        #print(f\"Word '{mot}' already present in row {idx}\")\n",
    "        return None\n",
    "    \n",
    "    else:\n",
    "        row = first_empty()\n",
    "\n",
    "        definition_txt = \"\"\n",
    "\n",
    "        if isinstance(definition, (list, tuple)):\n",
    "            for idx, d in enumerate(definition):\n",
    "                definition_txt += f\"{idx+1}) {d} \"\n",
    "                sheet[f'A{row}'] = mot\n",
    "                sheet[f'B{row}'] = definition_txt\n",
    "\n",
    "        elif isinstance(definition, (str)):\n",
    "            definition_txt = \"1) \" + definition\n",
    "            sheet[f'A{row}'] = mot\n",
    "            sheet[f'B{row}'] = definition_txt\n",
    "            #sheet[\"A1\"] = \"Mot\"\n",
    "\n",
    "        else:\n",
    "            logging.critical(f\"Word '' not inserted : definition must be str or strs in list/tuple\")\n",
    "            return None\n",
    "        \n",
    "        excel.save(\"lexi.xlsx\")\n",
    "        logging.debug(\"xlsx file saved after insertion\")"
   ]
  },
  {
   "cell_type": "code",
   "execution_count": 78,
   "metadata": {},
   "outputs": [],
   "source": [
    "def add_random_words(sample_lenght):\n",
    "    sample = df.sample(sample_lenght)\n",
    "\n",
    "    for idx, mot in enumerate(sample[\"Mot\"]):\n",
    "        ajout(mot)\n",
    "    \n",
    "    excel.save(\"lexi.xlsx\")\n",
    "    logging.debug(\"xlsx file saved after adding random sample\")"
   ]
  },
  {
   "cell_type": "code",
   "execution_count": 79,
   "metadata": {},
   "outputs": [],
   "source": [
    "#add_random_words(100)"
   ]
  },
  {
   "cell_type": "code",
   "execution_count": 80,
   "metadata": {},
   "outputs": [
    {
     "name": "stderr",
     "output_type": "stream",
     "text": [
      "INFO:root:'Test_word' found in lexicon at idx 100\n",
      "WARNING:root:Word 'Test_word' not inserted : already in lexicon at idx 100\n"
     ]
    }
   ],
   "source": [
    "insert(\"test_word\", [\"test_word_def_1\", \"test_word_def_2\"])"
   ]
  },
  {
   "cell_type": "code",
   "execution_count": 85,
   "metadata": {},
   "outputs": [
    {
     "name": "stderr",
     "output_type": "stream",
     "text": [
      "INFO:root:'Test_word' found in lexicon at idx 100\n",
      "INFO:root:'Test_word' deleted from the lexicon\n"
     ]
    }
   ],
   "source": [
    "delete(\"test_word\")"
   ]
  },
  {
   "cell_type": "code",
   "execution_count": 81,
   "metadata": {},
   "outputs": [
    {
     "data": {
      "text/plain": [
       "101"
      ]
     },
     "execution_count": 81,
     "metadata": {},
     "output_type": "execute_result"
    }
   ],
   "source": [
    "first_empty()"
   ]
  },
  {
   "cell_type": "code",
   "execution_count": 82,
   "metadata": {},
   "outputs": [
    {
     "name": "stderr",
     "output_type": "stream",
     "text": [
      "INFO:root:'Bouger' found in dictionnary at idx 90518\n",
      "WARNING:root:'Bouger' not added : already in lexicon at cell A99\n"
     ]
    }
   ],
   "source": [
    "ajout(\"bouger\", print_added=True)"
   ]
  },
  {
   "cell_type": "code",
   "execution_count": 83,
   "metadata": {},
   "outputs": [
    {
     "name": "stdout",
     "output_type": "stream",
     "text": [
      "Farandole\n",
      "Cavaleras\n",
      "Rouillures\n",
      "Saint-pierrards\n",
      "Nourrisseur\n",
      "Alingèrent\n",
      "Faséieront\n",
      "Génuflexionnai\n",
      "Rejaugerons\n"
     ]
    }
   ],
   "source": [
    "# Parcours d'un intervalle\n",
    "col_range_gen = sheet.iter_cols(min_col=1, max_col=1, min_row=2, max_row=10)\n",
    "\n",
    "T = ()\n",
    "for col_tuple in col_range_gen:\n",
    "    T = col_tuple\n",
    "\n",
    "for cell in T:\n",
    "    print(cell.value)"
   ]
  }
 ],
 "metadata": {
  "kernelspec": {
   "display_name": "base",
   "language": "python",
   "name": "python3"
  },
  "language_info": {
   "codemirror_mode": {
    "name": "ipython",
    "version": 3
   },
   "file_extension": ".py",
   "mimetype": "text/x-python",
   "name": "python",
   "nbconvert_exporter": "python",
   "pygments_lexer": "ipython3",
   "version": "3.9.12"
  },
  "orig_nbformat": 4
 },
 "nbformat": 4,
 "nbformat_minor": 2
}
