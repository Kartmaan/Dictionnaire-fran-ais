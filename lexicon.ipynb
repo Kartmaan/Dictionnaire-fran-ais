{
 "cells": [
  {
   "attachments": {},
   "cell_type": "markdown",
   "metadata": {},
   "source": [
    "# Lexique français\n",
    "Permet de créer son propre lexique de mots français en fichier Excel .xlsx. Les mots ajoutés peuvent provenir directement du dictionnaire présent dans le dossier courrant (dico.csv) ou d'un ajout personnalisé."
   ]
  },
  {
   "cell_type": "code",
   "execution_count": 4,
   "metadata": {},
   "outputs": [],
   "source": [
    "import time\n",
    "import random\n",
    "import logging\n",
    "import pandas as pd\n",
    "from openpyxl import load_workbook"
   ]
  },
  {
   "cell_type": "code",
   "execution_count": 16,
   "metadata": {},
   "outputs": [],
   "source": [
    "logger = logging.getLogger()\n",
    "logger.setLevel(logging.WARNING)"
   ]
  },
  {
   "cell_type": "code",
   "execution_count": 5,
   "metadata": {},
   "outputs": [],
   "source": [
    "# Pandas dataframe of the dictionary dico.csv\n",
    "df = pd.read_csv(\"dico.csv\")\n",
    "df = df.sort_values(\"Mot\")\n",
    "df = df.dropna()\n",
    "df = df.reset_index(drop=True)"
   ]
  },
  {
   "cell_type": "code",
   "execution_count": 17,
   "metadata": {},
   "outputs": [],
   "source": [
    "# Opening the excel file\n",
    "excel_file = load_workbook(\"lexi.xlsx\")\n",
    "sheet = excel_file.active\n",
    "\n",
    "# Writing of the first line: column names\n",
    "sheet[\"A1\"] = \"Mot\"\n",
    "sheet[\"B1\"] = \"Definitions\"\n",
    "sheet[\"C1\"] = \"Timestamp\""
   ]
  },
  {
   "attachments": {},
   "cell_type": "markdown",
   "metadata": {},
   "source": [
    "## Fonctions\n",
    "Ces fonctions agiront en passerelles entre les données contenues dans le dictionnaire `.csv` et le fichier `.xlsx`. Elles peremttront entre autres d'ajouter des mots dans le lexique, d'en rechercher ou encore d'en supprimer"
   ]
  },
  {
   "cell_type": "code",
   "execution_count": 7,
   "metadata": {},
   "outputs": [],
   "source": [
    "# In order to reduce the risks associated with too long or potentially \n",
    "# infinite iterations of the lexicon\n",
    "LIMIT_ITER = 10000"
   ]
  },
  {
   "cell_type": "code",
   "execution_count": 8,
   "metadata": {},
   "outputs": [],
   "source": [
    "def first_empty():\n",
    "    \"\"\" Ruturns the index of the first empty cell\n",
    "    in column A \"\"\"\n",
    "    \n",
    "    idx = 2\n",
    "    while True:\n",
    "        # Cell is empty\n",
    "        if not isinstance(sheet[f'A{idx}'].value, str):\n",
    "            return idx\n",
    "        \n",
    "        # Cell is full\n",
    "        else:\n",
    "            idx+=1\n",
    "            if idx == LIMIT_ITER:\n",
    "                logging.critical(\"Watchdog : too many iterations\")\n",
    "                break\n",
    "            else:\n",
    "                continue"
   ]
  },
  {
   "cell_type": "code",
   "execution_count": 33,
   "metadata": {},
   "outputs": [],
   "source": [
    "def add_word(word):\n",
    "    \"\"\" Addition of a word in the lexicon which is \n",
    "    present in the dictionary \"\"\"\n",
    "    \n",
    "    word = word.capitalize()\n",
    "\n",
    "    D = df.loc[df['Mot'] == word]['Définitions']\n",
    "\n",
    "    # Word not found\n",
    "    if len(D) == 0:\n",
    "        logging.warning(f\"'{word}' not in dictionnary\")\n",
    "        return None\n",
    "\n",
    "    # Word found\n",
    "    else:\n",
    "        logging.info(f\"'{word}' found in dictionnary at idx {df.loc[df['Mot'] == word].index[0]}\")\n",
    "        D = eval(D.values[0]) # -> <list>\n",
    "\n",
    "        idx = 2 # Index vertical de la colonne\n",
    "\n",
    "        # Loop to first empty cell in lexicon\n",
    "        while idx <= first_empty():\n",
    "\n",
    "            # Word already present in the lexicon\n",
    "            if sheet[f\"A{idx}\"].value == word:\n",
    "                logging.warning(f\"'{word}' not added : already in lexicon at cell A{idx}\")\n",
    "                return None\n",
    "\n",
    "            # Cell is empty\n",
    "            if not isinstance(sheet[f\"A{idx}\"].value, (str, int, float)) :\n",
    "\n",
    "                # All the definitions of the word contained in the list (D) are merged \n",
    "                # into a single string in order to be inserted into the sheet cell\n",
    "                defs = []\n",
    "                for idx_def, definition in enumerate(D):\n",
    "                    defs.append(f\"{idx_def+1}) {definition}\")\n",
    "\n",
    "                sheet[f\"A{str(idx)}\"] = word # Add word\n",
    "\n",
    "                sheet[f\"B{str(idx)}\"] = \"\".join(defs) # Add definitions\n",
    "                \n",
    "                sheet[f\"C{str(idx)}\"] = str(int(time.time())) # Add timestamp\n",
    "\n",
    "                logging.info(f\"'{word}' added in lexicon at idx A{idx}\")\n",
    "                break\n",
    "            \n",
    "            else:\n",
    "                idx+=1\n",
    "                if idx == LIMIT_ITER: # watchdog\n",
    "                    logging.critical(\"Watchdog : too many iterations\")\n",
    "                    break\n",
    "    \n",
    "    excel_file.save(\"lexi.xlsx\") # Save file after modification\n",
    "    logging.debug(\"xlsx file saved after adding a word\")"
   ]
  },
  {
   "cell_type": "code",
   "execution_count": 26,
   "metadata": {},
   "outputs": [],
   "source": [
    "def search(word):\n",
    "    \"\"\" Search a word in the lexicon.\n",
    "    If the word is found in the lexicon, the function returns in a tuple : \n",
    "    (the index, the word, its definitions, the timestamp of the addition).\n",
    "    If no word was found, returns None \"\"\"\n",
    "    \n",
    "    word = word.capitalize()\n",
    "\n",
    "    idx = 2\n",
    "    found = False\n",
    "    while idx < first_empty():\n",
    "        \n",
    "        # Word found\n",
    "        if sheet[f'A{idx}'].value == word:\n",
    "            found = True\n",
    "            logging.info(f\"'{word}' found in lexicon at idx {idx}\")\n",
    "            return (idx, word, sheet[f'B{idx}'].value, sheet[f'C{idx}'].value)\n",
    "        \n",
    "        # Still searching\n",
    "        else:\n",
    "            idx+=1\n",
    "    \n",
    "    # End of itération : word not found\n",
    "    if found == False:\n",
    "        logging.warning(f\"'{word}' not found in lexicon\")\n",
    "        return None"
   ]
  },
  {
   "cell_type": "code",
   "execution_count": 11,
   "metadata": {},
   "outputs": [],
   "source": [
    "def delete(word):\n",
    "    \"\"\" Delete a word from the lexicon.\n",
    "    The delete_rows() function from openpyxl automatically \n",
    "    fills the void left by the deletion\"\"\"\n",
    "    \n",
    "    word = word.capitalize()\n",
    "\n",
    "    result = search(word) # returns None if no word was found\n",
    "\n",
    "    # Word not found\n",
    "    if result == None:\n",
    "        logging.warning(f\"Word '{word}' not deleted : not in lexicon\")\n",
    "        return None\n",
    "    \n",
    "    # Word found\n",
    "    else:\n",
    "        idx = result[0]\n",
    "        sheet.delete_rows(idx)\n",
    "        logging.info(f\"'{word}' deleted from the lexicon\")\n",
    "        excel_file.save(\"lexi.xlsx\")\n",
    "        logging.debug(\"xlsx file saved after deletion\")"
   ]
  },
  {
   "cell_type": "code",
   "execution_count": 12,
   "metadata": {},
   "outputs": [],
   "source": [
    "def insert(word, definition):\n",
    "    \"\"\" Insert a word in lexicon that not figure in dictionary \"\"\"\n",
    "    \n",
    "    word = word.capitalize()\n",
    "\n",
    "    result = search(word) # returns None if no word was found\n",
    "\n",
    "    # Word already present\n",
    "    if result != None:\n",
    "        idx = result[0]\n",
    "        logging.warning(f\"Word '{word}' not inserted : already in lexicon at idx {idx}\")\n",
    "        return None\n",
    "    \n",
    "    # Word isn't present\n",
    "    else:\n",
    "        row = first_empty() # Where to write\n",
    "\n",
    "        definition_txt = \"\"\n",
    "\n",
    "        # 'definition' is a list or a tuple with multiple definitions.\n",
    "        # Numbering of definitions and merging in a string\n",
    "        if isinstance(definition, (list, tuple)):\n",
    "            for idx, d in enumerate(definition):\n",
    "                definition_txt += f\"{idx+1}) {d} \"\n",
    "                sheet[f'A{row}'] = word\n",
    "                sheet[f'B{row}'] = definition_txt\n",
    "                sheet[f'C{row}'] = int(time.time())\n",
    "                \n",
    "        # 'definition' is a string\n",
    "        elif isinstance(definition, (str)):\n",
    "            definition_txt = \"1) \" + definition\n",
    "            sheet[f'A{row}'] = word\n",
    "            sheet[f'B{row}'] = definition_txt\n",
    "\n",
    "        # Wrong type for 'definition'\n",
    "        else:\n",
    "            logging.critical(f\"Word '{word}' not inserted : definition must be str or strs in list/tuple\")\n",
    "            return None\n",
    "        \n",
    "        excel_file.save(\"lexi.xlsx\")\n",
    "        logging.debug(\"xlsx file saved after insertion\")"
   ]
  },
  {
   "cell_type": "code",
   "execution_count": 13,
   "metadata": {},
   "outputs": [],
   "source": [
    "def add_random_words(sample_lenght, seed=None):\n",
    "    \"\"\"Adds a given number of random words to the lexicon\"\"\"\n",
    "    \n",
    "    if seed == None:\n",
    "        sample = df.sample(sample_lenght)\n",
    "    else:\n",
    "        sample = df.sample(sample_lenght, random_state=seed)\n",
    "\n",
    "    for idx, word in enumerate(sample[\"Mot\"]):\n",
    "        add_word(word)\n",
    "    \n",
    "    logging.debug(f\"{sample_lenght} words have been added in the lexicon\")\n",
    "    \n",
    "    excel_file.save(\"lexi.xlsx\")\n",
    "    logging.debug(\"xlsx file saved after adding random sample\")"
   ]
  },
  {
   "attachments": {},
   "cell_type": "markdown",
   "metadata": {},
   "source": [
    "## Quelques exemples"
   ]
  },
  {
   "attachments": {},
   "cell_type": "markdown",
   "metadata": {},
   "source": [
    "### Remplissage du lexique\n",
    "Afin d'avoir de la matière pour les prochains exemples nous allons créer un échantillon de 50 mots choisis aléatoirement dans le dictionnaire `dico.csv` que nous allons insérer un par un dans le lexique grace à la fonction `add_random_words` créée plus haut. \n",
    "\n",
    "Par soucis de reproductibilité, cet échantillon aléatoire sera soumis à un seed d'une valeur de 1."
   ]
  },
  {
   "cell_type": "code",
   "execution_count": 18,
   "metadata": {},
   "outputs": [],
   "source": [
    "add_random_words(50, seed=1)"
   ]
  },
  {
   "attachments": {},
   "cell_type": "markdown",
   "metadata": {},
   "source": [
    "### Brève exploration du lexique\n",
    "Les fonctions d'ajout insèrent :\n",
    "- Les **mots** sur la colonne A\n",
    "- Les **définitions** sur la colonne B\n",
    "- Le **timestamp** de l'ajout sur la colonne C\n",
    "\n",
    "Chaque nouvel ajout se fait à la ligne précédent le dernier"
   ]
  },
  {
   "cell_type": "code",
   "execution_count": 20,
   "metadata": {},
   "outputs": [
    {
     "name": "stdout",
     "output_type": "stream",
     "text": [
      "Rematernalisassiez\n",
      "1) Deuxième personne du pluriel de l'imparfait du subjonctif du verbe rematernaliser.\n",
      "1683127581\n"
     ]
    }
   ],
   "source": [
    "# Affichage de la ligne 4\n",
    "print(sheet['A4'].value) # Mot\n",
    "print(sheet['B4'].value) # Définitions\n",
    "print(sheet['C4'].value) # Timestamp"
   ]
  },
  {
   "cell_type": "code",
   "execution_count": 22,
   "metadata": {},
   "outputs": [
    {
     "name": "stdout",
     "output_type": "stream",
     "text": [
      "Anglomanisâtes\n",
      "Désestimeraient\n",
      "Rematernalisassiez\n",
      "Égrappaient\n",
      "Reproportionnions\n",
      "Réexfiltrera\n",
      "Embabouina\n",
      "Mincissais\n",
      "Thermopathologique\n",
      "Chier une pendule\n"
     ]
    }
   ],
   "source": [
    "# Affichage des 10 premiers mots du lexique\n",
    "wrds = 10\n",
    "idx = 2\n",
    "\n",
    "while idx < wrds+2:\n",
    "    print(sheet[f'A{idx}'].value)\n",
    "    idx+=1"
   ]
  },
  {
   "attachments": {},
   "cell_type": "markdown",
   "metadata": {},
   "source": [
    "### Utilisation des fonctions"
   ]
  },
  {
   "attachments": {},
   "cell_type": "markdown",
   "metadata": {},
   "source": [
    "#### search()\n",
    "Recherche un mot dans le lexique, si le mot y est présent la fonction renvoie un `tuple` contenant :\n",
    "- 0/ L'index de la ligne\n",
    "- 1/ Le mot\n",
    "- 2/ Les définitions\n",
    "- 3/ Le timestamp\n",
    "\n",
    "Si aucun mot n'a été trouvé, la fonction renvoie `None`"
   ]
  },
  {
   "cell_type": "code",
   "execution_count": 23,
   "metadata": {},
   "outputs": [
    {
     "data": {
      "text/plain": [
       "(5,\n",
       " 'Égrappaient',\n",
       " \"1) Troisième personne du pluriel de l'indicatif imparfait du verbe égrapper.\",\n",
       " '1683127581')"
      ]
     },
     "execution_count": 23,
     "metadata": {},
     "output_type": "execute_result"
    }
   ],
   "source": [
    "# Mot trouvé\n",
    "search(\"Égrappaient\")"
   ]
  },
  {
   "cell_type": "code",
   "execution_count": 24,
   "metadata": {},
   "outputs": [
    {
     "data": {
      "text/plain": [
       "\"1) Troisième personne du pluriel de l'indicatif imparfait du verbe égrapper.\""
      ]
     },
     "execution_count": 24,
     "metadata": {},
     "output_type": "execute_result"
    }
   ],
   "source": [
    "# Juste la définition\n",
    "search(\"Égrappaient\")[2]"
   ]
  },
  {
   "cell_type": "code",
   "execution_count": 27,
   "metadata": {},
   "outputs": [
    {
     "name": "stderr",
     "output_type": "stream",
     "text": [
      "WARNING:root:'Rompicher' not found in lexicon\n"
     ]
    }
   ],
   "source": [
    "# Mot introuvable\n",
    "search(\"Rompicher\")"
   ]
  },
  {
   "attachments": {},
   "cell_type": "markdown",
   "metadata": {},
   "source": [
    "#### add_word()\n",
    "Permet d'ajouter un mot dans le lexique si celui-ci est **présent dans le dictionnaire et absent du lexique**"
   ]
  },
  {
   "cell_type": "code",
   "execution_count": 28,
   "metadata": {},
   "outputs": [],
   "source": [
    "add_word(\"Soupirail\")"
   ]
  },
  {
   "cell_type": "code",
   "execution_count": 29,
   "metadata": {},
   "outputs": [
    {
     "data": {
      "text/plain": [
       "(52,\n",
       " 'Soupirail',\n",
       " \"1) Ouverture pratiquée à la partie inférieure d'un édifice, pour donner un peu d'air et de jour à une cave, à un sous-sol, etc.2) :*  - La question est de savoir si c'est servir l'Europe, même libérale, que de la réintroduire par le soupirail du Parlement alors qu'elle [a] été expulsée par la porte du vote populaire. - (Le Monde diplomatique, 25 juin 2007)\",\n",
       " '1683129181')"
      ]
     },
     "execution_count": 29,
     "metadata": {},
     "output_type": "execute_result"
    }
   ],
   "source": [
    "search(\"Soupirail\")"
   ]
  },
  {
   "cell_type": "code",
   "execution_count": 30,
   "metadata": {},
   "outputs": [
    {
     "name": "stderr",
     "output_type": "stream",
     "text": [
      "WARNING:root:'Égrappaient' not added : already in lexicon at cell A5\n"
     ]
    }
   ],
   "source": [
    "# Ajout d'un mot déjà présent dans le lexique\n",
    "add_word(\"Égrappaient\")"
   ]
  },
  {
   "cell_type": "code",
   "execution_count": 34,
   "metadata": {},
   "outputs": [
    {
     "name": "stderr",
     "output_type": "stream",
     "text": [
      "WARNING:root:'Rompicher' not in dictionnary\n"
     ]
    }
   ],
   "source": [
    "# Ajout d'un mot absent du dictionnaire\n",
    "add_word(\"Rompicher\")"
   ]
  },
  {
   "attachments": {},
   "cell_type": "markdown",
   "metadata": {},
   "source": [
    "#### insert()\n",
    "Permet d'ajouter un mot dans le lexique qui n'est pas présent dans le dictionnaire. Pour cela il sera nécessaire de renseigner le mot ainsi que sa ou ses définitions.\n",
    "\n",
    "Le paramètre `definition` peut être un `str` s'il n'y a qu'une definition pour le mot, ou un itérable de type `list` ou `tuple` s'il en possède plusieurs.\n",
    "\n",
    "> **Note** : La fonction `insert()` appelle la fonction `search()` afin de vérifier si le mot à insérer n'est pas déjà présent dans le lexique, celle-ci emet un message Warning lorsqu'elle ne trouve pas le mot voulu, d'où l'affichage."
   ]
  },
  {
   "cell_type": "code",
   "execution_count": 35,
   "metadata": {},
   "outputs": [
    {
     "name": "stderr",
     "output_type": "stream",
     "text": [
      "WARNING:root:'Orange' not found in lexicon\n"
     ]
    }
   ],
   "source": [
    "insert(\"Orange\", [\"Fruit\", \"Société française de télécommunications\"])"
   ]
  },
  {
   "cell_type": "code",
   "execution_count": 36,
   "metadata": {},
   "outputs": [
    {
     "data": {
      "text/plain": [
       "(53,\n",
       " 'Orange',\n",
       " '1) Fruit 2) Société française de télécommunications ',\n",
       " 1683129618)"
      ]
     },
     "execution_count": 36,
     "metadata": {},
     "output_type": "execute_result"
    }
   ],
   "source": [
    "search(\"Orange\")"
   ]
  },
  {
   "attachments": {},
   "cell_type": "markdown",
   "metadata": {},
   "source": [
    "#### delete()\n",
    "Supprime la ligne correspondant à un mot donné en comblant le vide laissé par la suppression"
   ]
  },
  {
   "cell_type": "code",
   "execution_count": 37,
   "metadata": {},
   "outputs": [
    {
     "name": "stdout",
     "output_type": "stream",
     "text": [
      "Anglomanisâtes\n",
      "Désestimeraient\n",
      "Rematernalisassiez\n",
      "Égrappaient\n",
      "Reproportionnions\n",
      "Réexfiltrera\n",
      "Embabouina\n",
      "Mincissais\n",
      "Thermopathologique\n",
      "Chier une pendule\n"
     ]
    }
   ],
   "source": [
    "# Affichage des 10 premiers mots du lexique\n",
    "wrds = 10\n",
    "idx = 2\n",
    "\n",
    "while idx < wrds+2:\n",
    "    print(sheet[f'A{idx}'].value)\n",
    "    idx+=1"
   ]
  },
  {
   "cell_type": "code",
   "execution_count": 38,
   "metadata": {},
   "outputs": [],
   "source": [
    "# Suppression du mot \"Mincissais\"\n",
    "delete(\"Mincissais\")"
   ]
  },
  {
   "cell_type": "code",
   "execution_count": 39,
   "metadata": {},
   "outputs": [
    {
     "name": "stdout",
     "output_type": "stream",
     "text": [
      "Anglomanisâtes\n",
      "Désestimeraient\n",
      "Rematernalisassiez\n",
      "Égrappaient\n",
      "Reproportionnions\n",
      "Réexfiltrera\n",
      "Embabouina\n",
      "Thermopathologique\n",
      "Chier une pendule\n",
      "Enroquassions\n"
     ]
    }
   ],
   "source": [
    "# Affichage des 10 premiers mots du lexique\n",
    "# \"Mincissais a été supprimé\"\n",
    "wrds = 10\n",
    "idx = 2\n",
    "\n",
    "while idx < wrds+2:\n",
    "    print(sheet[f'A{idx}'].value)\n",
    "    idx+=1"
   ]
  },
  {
   "attachments": {},
   "cell_type": "markdown",
   "metadata": {},
   "source": [
    "#### first_empty()\n",
    "Cette fonction retourne l'index de la ligne de la première cellule vide de la colonne A. Elle permet ainsi de déduire la longueur des données présentes dans le fichier .xlsx mais également de déterminer à quel index les nouveaux mots doivent être ajoutés sachant que ceux-ci s'ajoutent à la ligne suivant la dernière entrée du tableur"
   ]
  },
  {
   "cell_type": "code",
   "execution_count": 40,
   "metadata": {},
   "outputs": [
    {
     "data": {
      "text/plain": [
       "53"
      ]
     },
     "execution_count": 40,
     "metadata": {},
     "output_type": "execute_result"
    }
   ],
   "source": [
    "first_empty()"
   ]
  }
 ],
 "metadata": {
  "kernelspec": {
   "display_name": "base",
   "language": "python",
   "name": "python3"
  },
  "language_info": {
   "codemirror_mode": {
    "name": "ipython",
    "version": 3
   },
   "file_extension": ".py",
   "mimetype": "text/x-python",
   "name": "python",
   "nbconvert_exporter": "python",
   "pygments_lexer": "ipython3",
   "version": "3.9.12"
  },
  "orig_nbformat": 4
 },
 "nbformat": 4,
 "nbformat_minor": 2
}
