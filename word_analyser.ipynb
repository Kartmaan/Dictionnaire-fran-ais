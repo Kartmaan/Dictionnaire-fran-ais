{
 "cells": [
  {
   "cell_type": "code",
   "execution_count": 7,
   "metadata": {},
   "outputs": [],
   "source": [
    "import pandas as pd"
   ]
  },
  {
   "cell_type": "code",
   "execution_count": 2,
   "metadata": {},
   "outputs": [],
   "source": [
    "# Pandas dataframe of the dictionary dico.csv\n",
    "df = pd.read_csv(\"dico.csv\")\n",
    "df = df.sort_values(\"Mot\")\n",
    "df = df.dropna()\n",
    "df = df.reset_index(drop=True)"
   ]
  },
  {
   "cell_type": "code",
   "execution_count": 34,
   "metadata": {},
   "outputs": [],
   "source": [
    "def multi_filter(df, length=None, start_with=None, \n",
    "    end_with=None, nth_letter=None, no_comp=True):\n",
    "    \n",
    "    if no_comp:\n",
    "        df = df.loc[\n",
    "        (~df['Mot'].str.contains(r'\\s')) & \n",
    "        (~df['Mot'].str.contains(r'-'))\n",
    "        ]\n",
    "    \n",
    "    if length != None:\n",
    "        df = df.loc[df['Mot'].str.len() == length]\n",
    "    \n",
    "    if start_with != None:\n",
    "        start_with = start_with.capitalize()\n",
    "        df = df.loc[df['Mot'].str.startswith(start_with)]\n",
    "    \n",
    "    if nth_letter != None:\n",
    "        rank = nth_letter[0]\n",
    "        letter = nth_letter[1]\n",
    "        df = df.loc[df['Mot'].apply(lambda x: len(x) > rank and x[rank-1] == letter)]\n",
    "    \n",
    "    if end_with != None:\n",
    "        df = df.loc[df['Mot'].str.endswith(end_with)]\n",
    "    \n",
    "    return df"
   ]
  },
  {
   "cell_type": "code",
   "execution_count": 37,
   "metadata": {},
   "outputs": [
    {
     "data": {
      "text/html": [
       "<div>\n",
       "<style scoped>\n",
       "    .dataframe tbody tr th:only-of-type {\n",
       "        vertical-align: middle;\n",
       "    }\n",
       "\n",
       "    .dataframe tbody tr th {\n",
       "        vertical-align: top;\n",
       "    }\n",
       "\n",
       "    .dataframe thead th {\n",
       "        text-align: right;\n",
       "    }\n",
       "</style>\n",
       "<table border=\"1\" class=\"dataframe\">\n",
       "  <thead>\n",
       "    <tr style=\"text-align: right;\">\n",
       "      <th></th>\n",
       "      <th>Mot</th>\n",
       "      <th>Définitions</th>\n",
       "    </tr>\n",
       "  </thead>\n",
       "  <tbody>\n",
       "    <tr>\n",
       "      <th>133301</th>\n",
       "      <td>Chanter</td>\n",
       "      <td>['Exécuter une partie ou un morceau de musique...</td>\n",
       "    </tr>\n",
       "    <tr>\n",
       "      <th>135697</th>\n",
       "      <td>Charter</td>\n",
       "      <td>['Avion affrété pour transporter un groupe de ...</td>\n",
       "    </tr>\n",
       "    <tr>\n",
       "      <th>136607</th>\n",
       "      <td>Chatter</td>\n",
       "      <td>['Faire des petits chats, en parlant de la cha...</td>\n",
       "    </tr>\n",
       "  </tbody>\n",
       "</table>\n",
       "</div>"
      ],
      "text/plain": [
       "            Mot                                        Définitions\n",
       "133301  Chanter  ['Exécuter une partie ou un morceau de musique...\n",
       "135697  Charter  ['Avion affrété pour transporter un groupe de ...\n",
       "136607  Chatter  ['Faire des petits chats, en parlant de la cha..."
      ]
     },
     "execution_count": 37,
     "metadata": {},
     "output_type": "execute_result"
    }
   ],
   "source": [
    "multi_filter(df, length=7, start_with=\"ch\", end_with=\"er\", nth_letter=(5,\"t\"))"
   ]
  }
 ],
 "metadata": {
  "kernelspec": {
   "display_name": "base",
   "language": "python",
   "name": "python3"
  },
  "language_info": {
   "codemirror_mode": {
    "name": "ipython",
    "version": 3
   },
   "file_extension": ".py",
   "mimetype": "text/x-python",
   "name": "python",
   "nbconvert_exporter": "python",
   "pygments_lexer": "ipython3",
   "version": "3.9.12"
  },
  "orig_nbformat": 4
 },
 "nbformat": 4,
 "nbformat_minor": 2
}
